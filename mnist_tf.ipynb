{
 "cells": [
  {
   "cell_type": "code",
   "execution_count": 49,
   "metadata": {},
   "outputs": [],
   "source": [
    "from tensorflow import keras\n",
    "from keras.models import Model\n",
    "from keras.layers import Dense, Dropout, Input\n",
    "from keras.utils import np_utils\n",
    "from keras.datasets import mnist\n",
    "import numpy as np\n",
    "import matplotlib.pyplot as plt\n",
    "\n",
    "import mlflow\n",
    "import mlflow.tensorflow\n",
    "import mlflow.keras"
   ]
  },
  {
   "cell_type": "code",
   "execution_count": 57,
   "metadata": {},
   "outputs": [],
   "source": [
    "(X_train, y_train), (X_test, y_test) = mnist.load_data()"
   ]
  },
  {
   "cell_type": "code",
   "execution_count": 51,
   "metadata": {},
   "outputs": [
    {
     "data": {
      "image/png": "[encoded data removed]",
      "text/plain": [
       "<Figure size 640x480 with 1 Axes>"
      ]
     },
     "metadata": {},
     "output_type": "display_data"
    }
   ],
   "source": [
    "# mostrando a imagem\n",
    "plt.imshow(X_train[0], cmap='gray')\n",
    "plt.title(f'Classe  {y_train[0]}')\n",
    "plt.show()"
   ]
  },
  {
   "cell_type": "code",
   "execution_count": 52,
   "metadata": {},
   "outputs": [],
   "source": [
    "class Modelo(): \n",
    "    def __init__(self, input_shape, num_classes, num_units, dense_activation, output_activation, dropout_rate, optimizer, loss, metrics):\n",
    "        self.input_shape = input_shape\n",
    "        self.num_classes = num_classes\n",
    "        self.num_units = num_units\n",
    "        self.dense_activation = dense_activation\n",
    "        self.output_activation = output_activation\n",
    "        self.dropout_rate = dropout_rate\n",
    "        self.optimizer = optimizer\n",
    "        self.loss = loss\n",
    "        self.metrics = metrics\n",
    "    \n",
    "    def log_parametros(self):\n",
    "        mlflow.log_param(\"input_shape\", self.input_shape)\n",
    "        mlflow.log_param(\"num_classes\", self.num_classes)\n",
    "        mlflow.log_param(\"num_units\", self.num_units)\n",
    "        mlflow.log_param(\"dense_activation\", self.dense_activation)\n",
    "        mlflow.log_param(\"output_activation\", self.output_activation)\n",
    "        mlflow.log_param(\"dropout_rate\", self.dropout_rate)\n",
    "        mlflow.log_param(\"optimizer\", self.optimizer)\n",
    "        mlflow.log_param(\"loss\", self.loss)\n",
    "        mlflow.log_param(\"metrics\", self.metrics)\n",
    "\n",
    "    def log_metricas(self, model, X_test, y_test):\n",
    "        score = model.evaluate(X_test, y_test, verbose=0)\n",
    "        mlflow.log_metric(\"Teste - Loss\", score[0])\n",
    "        mlflow.log_metric(\"Teste - Acurácia\", score[1])\n",
    "\n",
    "\n",
    "    def log_history(self, history):\n",
    "        for key in history.history.keys():\n",
    "            mlflow.log_metric(key, history.history[key][-1])\n",
    "            \n",
    "        plt.plot(history.history['accuracy'])\n",
    "        plt.plot(history.history['val_accuracy'])\n",
    "        plt.title('Acurácia do Modelo')\n",
    "        plt.ylabel('Acurácia')\n",
    "        plt.xlabel('Época')\n",
    "        plt.legend(['Treino', 'Teste'], loc='upper left')\n",
    "        plt.savefig('./images/accuracy.png')\n",
    "        plt.close()\n",
    "        mlflow.log_artifact('./images/accuracy.png')\n",
    "\n",
    "        plt.plot(history.history['loss'])\n",
    "        plt.plot(history.history['val_loss'])\n",
    "        plt.title('Perda do Modelo')\n",
    "        plt.ylabel('Perda')\n",
    "        plt.xlabel('Época')\n",
    "        plt.legend(['Treino', 'Teste'], loc='upper left')\n",
    "        plt.savefig('./images/loss.png')\n",
    "        plt.close()\n",
    "        mlflow.log_artifact('./images/loss.png')\n",
    "\n",
    "    def log_execution(self, execution_id):\n",
    "        mlflow.log_param(\"execution_id\", execution_id)\n",
    "\n",
    "    def create_model(self):\n",
    "        inputs = Input(shape=self.input_shape)\n",
    "        x = Dense(self.num_units, activation=self.dense_activation)(inputs)\n",
    "        x = Dropout(self.dropout_rate)(x)\n",
    "        x = Dense(self.num_units, activation=self.dense_activation)(x)\n",
    "        x = Dropout(self.dropout_rate)(x)\n",
    "        outputs = Dense(self.num_classes, activation=self.output_activation)(x)\n",
    "        model = Model(inputs=inputs, outputs=outputs)\n",
    "        \n",
    "        return model\n",
    "    \n",
    "    def compile_model(self):\n",
    "        model = self.create_model()\n",
    "        model.compile(optimizer=self.optimizer, loss=self.loss, metrics=self.metrics)\n",
    "\n",
    "        return model\n",
    "    \n",
    "    def train_model(self, model, X_train, y_train, X_test, y_test, epochs, batch_size):\n",
    "        history = model.fit(X_train,\n",
    "                  y_train,\n",
    "                  validation_data=(X_test, y_test),\n",
    "                  epochs=epochs,\n",
    "                  batch_size=batch_size,\n",
    "                  verbose=0)\n",
    "        \n",
    "        return model, history\n",
    "    \n",
    "    @classmethod\n",
    "    def reshape(self, X_train, X_test):\n",
    "        linha, coluna, pixel = X_train.shape\n",
    "        X_train = X_train.reshape(linha, coluna * pixel).astype('float32')\n",
    "\n",
    "        linha, coluna, pixel = X_test.shape\n",
    "        X_test = X_test.reshape(linha, coluna * pixel).astype('float32')\n",
    "        \n",
    "        return X_train, X_test\n",
    "    \n",
    "    @classmethod\n",
    "    def normalize(self, X_train, X_test):\n",
    "        X_train /=  255\n",
    "        X_test /= 255\n",
    "        return X_train, X_test\n",
    "    \n",
    "    @classmethod\n",
    "    def to_categorical(self, y_train, y_test, num_classes):\n",
    "        y_train = np_utils.to_categorical(y_train, num_classes)\n",
    "        y_test = np_utils.to_categorical(y_test, num_classes)\n",
    "        return y_train, y_test"
   ]
  },
  {
   "cell_type": "code",
   "execution_count": 53,
   "metadata": {},
   "outputs": [],
   "source": [
    "# Fazendo o reshape dos dados\n",
    "X_train, X_test = Modelo.reshape(X_train, X_test)\n",
    "\n",
    "# normalizando os dados\n",
    "X_train, X_test = Modelo.normalize(X_train, X_test)\n",
    "\n",
    "# transformando os dados em categoricos\n",
    "y_train, y_test = Modelo.to_categorical(y_train, y_test, 10)"
   ]
  },
  {
   "cell_type": "code",
   "execution_count": 54,
   "metadata": {},
   "outputs": [
    {
     "name": "stderr",
     "output_type": "stream",
     "text": [
      "2023/12/23 11:18:01 WARNING mlflow.tensorflow: You are saving a TensorFlow Core model or Keras model without a signature. Inference with mlflow.pyfunc.spark_udf() will not work unless the model's pyfunc representation accepts pandas DataFrames as inference inputs.\n"
     ]
    },
    {
     "name": "stdout",
     "output_type": "stream",
     "text": [
      "INFO:tensorflow:Assets written to: C:\\Users\\lmonf\\AppData\\Local\\Temp\\tmp2445yoxf\\model\\data\\model\\assets\n"
     ]
    }
   ],
   "source": [
    "def experiments():\n",
    "    for num_units in [64, 128, 256]:\n",
    "        for dropout_rate in [0.2, 0.3, 0.4]:\n",
    "            for dense_activation in ['relu', 'tanh']:\n",
    "                for output_activation in ['softmax', 'sigmoid']:\n",
    "                    for optimizer in ['adam', 'rmsprop']:\n",
    "                        for loss in ['categorical_crossentropy', 'mean_squared_error']:\n",
    "                            for metrics in [['accuracy'], ['accuracy', 'mse']]:\n",
    "                                yield num_units, dropout_rate, dense_activation, output_activation, optimizer, loss, metrics\n",
    "\n",
    "for num_units, dropout_rate, dense_activation, output_activation, optimizer, loss, metrics in experiments():\n",
    "    mlflow.set_experiment(\"DL - MNIST\")\n",
    "    with mlflow.start_run():\n",
    "        modelo = Modelo(input_shape=(784,),\n",
    "                    num_classes=len(y_train[0]),\n",
    "                    num_units=num_units,\n",
    "                    dense_activation=dense_activation,\n",
    "                    output_activation=output_activation,\n",
    "                    dropout_rate=dropout_rate,\n",
    "                    optimizer=optimizer,\n",
    "                    loss=loss,\n",
    "                    metrics=metrics)\n",
    "        \n",
    "        modelo.log_parametros()\n",
    "\n",
    "        modelo_treinado, histoy = modelo.train_model(model=modelo.compile_model(), \n",
    "                                            X_train=X_train,\n",
    "                                            y_train=y_train,\n",
    "                                            X_test=X_test, \n",
    "                                            y_test=y_test, \n",
    "                                            epochs=10,\n",
    "                                            batch_size=128)\n",
    "\n",
    "        modelo.log_history(histoy)\n",
    "\n",
    "        modelo.log_metricas(modelo_treinado, X_test, y_test)\n",
    "        mlflow.keras.log_model(modelo_treinado, \"model\")\n",
    "\n",
    "        modelo.log_execution(execution_id=mlflow.active_run().info.run_id)\n",
    "\n",
    "    mlflow.end_run()"
   ]
  },
  {
   "cell_type": "code",
   "execution_count": 55,
   "metadata": {},
   "outputs": [
    {
     "name": "stdout",
     "output_type": "stream",
     "text": [
      "313/313 [==============================] - 0s 1ms/step - loss: 0.0679 - accuracy: 0.9791\n"
     ]
    },
    {
     "data": {
      "text/plain": [
       "[0.06791356950998306, 0.9790999889373779]"
      ]
     },
     "execution_count": 55,
     "metadata": {},
     "output_type": "execute_result"
    }
   ],
   "source": [
    "modelo_treinado.evaluate(X_test, y_test)"
   ]
  },
  {
   "cell_type": "code",
   "execution_count": 56,
   "metadata": {},
   "outputs": [
    {
     "name": "stdout",
     "output_type": "stream",
     "text": [
      "1/1 [==============================] - 0s 65ms/step\n",
      "Previsto: 7\n"
     ]
    },
    {
     "data": {
      "image/png": "[encoded data removed]",
      "text/plain": [
       "<Figure size 640x480 with 1 Axes>"
      ]
     },
     "metadata": {},
     "output_type": "display_data"
    }
   ],
   "source": [
    "previsto = np.argmax(modelo_treinado.predict(X_test[0].reshape(1, 784)))\n",
    "print(f'Previsto: {previsto}')\n",
    "plt.imshow(X_test[0].reshape(28, 28), cmap='gray')\n",
    "plt.show()"
   ]
  }
 ],
 "metadata": {
  "kernelspec": {
   "display_name": "tfEnv",
   "language": "python",
   "name": "python3"
  },
  "language_info": {
   "codemirror_mode": {
    "name": "ipython",
    "version": 3
   },
   "file_extension": ".py",
   "mimetype": "text/x-python",
   "name": "python",
   "nbconvert_exporter": "python",
   "pygments_lexer": "ipython3",
   "version": "3.9.16"
  }
 },
 "nbformat": 4,
 "nbformat_minor": 2
}
